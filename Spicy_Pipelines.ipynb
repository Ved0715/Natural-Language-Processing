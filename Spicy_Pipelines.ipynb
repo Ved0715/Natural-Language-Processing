{
  "nbformat": 4,
  "nbformat_minor": 0,
  "metadata": {
    "colab": {
      "provenance": [],
      "authorship_tag": "ABX9TyO0WqnDfxT2sKKLtfLyx/x6",
      "include_colab_link": true
    },
    "kernelspec": {
      "name": "python3",
      "display_name": "Python 3"
    },
    "language_info": {
      "name": "python"
    }
  },
  "cells": [
    {
      "cell_type": "markdown",
      "metadata": {
        "id": "view-in-github",
        "colab_type": "text"
      },
      "source": [
        "<a href=\"https://colab.research.google.com/github/Ved0715/Natural-Language-Processing/blob/main/Spicy_Pipelines.ipynb\" target=\"_parent\"><img src=\"https://colab.research.google.com/assets/colab-badge.svg\" alt=\"Open In Colab\"/></a>"
      ]
    },
    {
      "cell_type": "code",
      "execution_count": 1,
      "metadata": {
        "id": "c5pVbDi1zuOF"
      },
      "outputs": [],
      "source": [
        "import spacy"
      ]
    },
    {
      "cell_type": "code",
      "source": [
        "nlp = spacy.load(\"en_core_web_sm\")"
      ],
      "metadata": {
        "id": "4endpJIe1W8v"
      },
      "execution_count": 2,
      "outputs": []
    },
    {
      "cell_type": "code",
      "source": [
        "nlp.pipe_names"
      ],
      "metadata": {
        "colab": {
          "base_uri": "https://localhost:8080/"
        },
        "id": "FPh1SiSc1c2a",
        "outputId": "2ffaa20d-bfe1-4d52-bea2-e300846a27d5"
      },
      "execution_count": 5,
      "outputs": [
        {
          "output_type": "execute_result",
          "data": {
            "text/plain": [
              "['tok2vec', 'tagger', 'parser', 'attribute_ruler', 'lemmatizer', 'ner']"
            ]
          },
          "metadata": {},
          "execution_count": 5
        }
      ]
    },
    {
      "cell_type": "code",
      "source": [
        "doc = nlp(\"I gave Atul 100$ and hi did not reply me when I asked him back. You are a kind person\")\n",
        "\n",
        "for tokens in doc:\n",
        "  print(tokens.text,\"|\", tokens.pos_,\"|\",tokens.lemma_)"
      ],
      "metadata": {
        "colab": {
          "base_uri": "https://localhost:8080/"
        },
        "id": "uXvzBRRA1lRp",
        "outputId": "2aff6684-dc28-457d-dab9-523107877f7a"
      },
      "execution_count": 12,
      "outputs": [
        {
          "output_type": "stream",
          "name": "stdout",
          "text": [
            "I | PRON | I\n",
            "gave | VERB | give\n",
            "Atul | PROPN | Atul\n",
            "100 | NUM | 100\n",
            "$ | SYM | $\n",
            "and | CCONJ | and\n",
            "hi | INTJ | hi\n",
            "did | AUX | do\n",
            "not | PART | not\n",
            "reply | VERB | reply\n",
            "me | PRON | I\n",
            "when | SCONJ | when\n",
            "I | PRON | I\n",
            "asked | VERB | ask\n",
            "him | PRON | he\n",
            "back | ADP | back\n",
            ". | PUNCT | .\n",
            "You | PRON | you\n",
            "are | AUX | be\n",
            "a | DET | a\n",
            "kind | ADJ | kind\n",
            "person | NOUN | person\n"
          ]
        }
      ]
    },
    {
      "cell_type": "code",
      "source": [
        "doc = nlp(\"I gave ram 100$ and hi did not reply me when I asked him back. You are a kind person\")\n",
        "for ents in doc.ents:\n",
        "  print(ents.text,\"|\", ents.label_,\"|\",spacy.explain(ents.label_))"
      ],
      "metadata": {
        "colab": {
          "base_uri": "https://localhost:8080/"
        },
        "id": "d8SRL-ka6IQG",
        "outputId": "92c6307d-e285-448e-cbba-eae3a44ae513"
      },
      "execution_count": 16,
      "outputs": [
        {
          "output_type": "stream",
          "name": "stdout",
          "text": [
            "100$ | MONEY | Monetary values, including unit\n"
          ]
        }
      ]
    },
    {
      "cell_type": "code",
      "source": [
        "from spacy import displacy\n",
        "displacy.render(doc, style=\"ent\")"
      ],
      "metadata": {
        "colab": {
          "base_uri": "https://localhost:8080/",
          "height": 52
        },
        "id": "vUsKm6YN6e1F",
        "outputId": "49685965-ebdb-4251-8ff1-a8a8d79fe1db"
      },
      "execution_count": 17,
      "outputs": [
        {
          "output_type": "display_data",
          "data": {
            "text/plain": [
              "<IPython.core.display.HTML object>"
            ],
            "text/html": [
              "<span class=\"tex2jax_ignore\"><div class=\"entities\" style=\"line-height: 2.5; direction: ltr\">I gave ram \n",
              "<mark class=\"entity\" style=\"background: #e4e7d2; padding: 0.45em 0.6em; margin: 0 0.25em; line-height: 1; border-radius: 0.35em;\">\n",
              "    100$\n",
              "    <span style=\"font-size: 0.8em; font-weight: bold; line-height: 1; border-radius: 0.35em; vertical-align: middle; margin-left: 0.5rem\">MONEY</span>\n",
              "</mark>\n",
              " and hi did not reply me when I asked him back. You are a kind person</div></span>"
            ]
          },
          "metadata": {}
        }
      ]
    },
    {
      "cell_type": "code",
      "source": [],
      "metadata": {
        "id": "IT06s0YJ7pz3"
      },
      "execution_count": null,
      "outputs": []
    }
  ]
}