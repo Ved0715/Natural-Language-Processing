{
  "nbformat": 4,
  "nbformat_minor": 0,
  "metadata": {
    "colab": {
      "provenance": [],
      "authorship_tag": "ABX9TyPPkhHy88JpnDZ71W3RVvxf",
      "include_colab_link": true
    },
    "kernelspec": {
      "name": "python3",
      "display_name": "Python 3"
    },
    "language_info": {
      "name": "python"
    }
  },
  "cells": [
    {
      "cell_type": "markdown",
      "metadata": {
        "id": "view-in-github",
        "colab_type": "text"
      },
      "source": [
        "<a href=\"https://colab.research.google.com/github/Ved0715/Natural-Language-Processing/blob/main/stop_words.ipynb\" target=\"_parent\"><img src=\"https://colab.research.google.com/assets/colab-badge.svg\" alt=\"Open In Colab\"/></a>"
      ]
    },
    {
      "cell_type": "code",
      "execution_count": 1,
      "metadata": {
        "id": "PgEvIFj_9A29"
      },
      "outputs": [],
      "source": [
        "import spacy\n",
        "\n",
        "from spacy.lang.en.stop_words import STOP_WORDS\n",
        "\n",
        "len(STOP_WORDS)\n"
      ]
    },
    {
      "cell_type": "code",
      "source": [
        "nlp = spacy.load(\"en_core_web_sm\")\n",
        "\n",
        "doc = nlp(\"We just opened our wings, the flying part is coming soon\")\n",
        "\n",
        "for token in doc:\n",
        "    if token.is_stop:\n",
        "        print(token)"
      ],
      "metadata": {
        "colab": {
          "base_uri": "https://localhost:8080/"
        },
        "id": "f4hXo4ox-WtQ",
        "outputId": "0f2a50fc-43f9-41f8-9a0d-30899dc0465c"
      },
      "execution_count": 3,
      "outputs": [
        {
          "output_type": "stream",
          "name": "stdout",
          "text": [
            "We\n",
            "just\n",
            "our\n",
            "the\n",
            "part\n",
            "is\n"
          ]
        }
      ]
    },
    {
      "cell_type": "code",
      "source": [
        "def preprocess (text):\n",
        "    doc = nlp(text)\n",
        "    tokens = [tokens.text for tokens in doc if not tokens.is_stop and not tokens.is_punct]\n",
        "    return \" \".join(tokens)"
      ],
      "metadata": {
        "id": "6lsgZclk-ZGD"
      },
      "execution_count": 4,
      "outputs": []
    },
    {
      "cell_type": "code",
      "source": [
        "preprocess(\"Musk wants time to prepare for a trial over his\")"
      ],
      "metadata": {
        "colab": {
          "base_uri": "https://localhost:8080/",
          "height": 35
        },
        "id": "uiVR9FlHBJA3",
        "outputId": "5fc0c915-d055-4831-bf76-b9eb432b8ce3"
      },
      "execution_count": 5,
      "outputs": [
        {
          "output_type": "execute_result",
          "data": {
            "text/plain": [
              "'Musk wants time prepare trial'"
            ],
            "application/vnd.google.colaboratory.intrinsic+json": {
              "type": "string"
            }
          },
          "metadata": {},
          "execution_count": 5
        }
      ]
    },
    {
      "cell_type": "code",
      "source": [
        "preprocess(\"The other is not other but your divine brother\")"
      ],
      "metadata": {
        "colab": {
          "base_uri": "https://localhost:8080/",
          "height": 35
        },
        "id": "fWIcbjgCBLWI",
        "outputId": "4b0b64ce-16a8-4734-b344-11dbbc186714"
      },
      "execution_count": 6,
      "outputs": [
        {
          "output_type": "execute_result",
          "data": {
            "text/plain": [
              "'divine brother'"
            ],
            "application/vnd.google.colaboratory.intrinsic+json": {
              "type": "string"
            }
          },
          "metadata": {},
          "execution_count": 6
        }
      ]
    },
    {
      "cell_type": "code",
      "source": [
        "import pandas as pd\n",
        "\n",
        "df = pd.read_json(\"combined.json\",lines=True)\n",
        "\n",
        "df.shape\n"
      ],
      "metadata": {
        "colab": {
          "base_uri": "https://localhost:8080/"
        },
        "id": "4Vqsa8G3BODa",
        "outputId": "dd6f6b83-d6c6-470b-fc5c-9faae74e2bc9"
      },
      "execution_count": 7,
      "outputs": [
        {
          "output_type": "execute_result",
          "data": {
            "text/plain": [
              "(13087, 6)"
            ]
          },
          "metadata": {},
          "execution_count": 7
        }
      ]
    },
    {
      "cell_type": "code",
      "source": [
        "df.head(5)"
      ],
      "metadata": {
        "colab": {
          "base_uri": "https://localhost:8080/",
          "height": 289
        },
        "id": "7ajBA7rtBdM-",
        "outputId": "de0e0254-7340-4755-9e2e-c3999d9a162a"
      },
      "execution_count": 8,
      "outputs": [
        {
          "output_type": "execute_result",
          "data": {
            "text/plain": [
              "        id                                              title  \\\n",
              "0     None       Convicted Bomb Plotter Sentenced to 30 Years   \n",
              "1  12-919   $1 Million in Restitution Payments Announced t...   \n",
              "2  11-1002  $1 Million Settlement Reached for Natural Reso...   \n",
              "3   10-015  10 Las Vegas Men Indicted \\r\\nfor Falsifying V...   \n",
              "4   18-898  $100 Million Settlement Will Speed Cleanup Wor...   \n",
              "\n",
              "                                            contents  \\\n",
              "0  PORTLAND, Oregon. – Mohamed Osman Mohamud, 23,...   \n",
              "1    WASHINGTON – North Carolina’s Waccamaw River...   \n",
              "2        BOSTON– A $1-million settlement has been...   \n",
              "3    WASHINGTON—A federal grand jury in Las Vegas...   \n",
              "4  The U.S. Department of Justice, the U.S. Envir...   \n",
              "\n",
              "                        date         topics  \\\n",
              "0  2014-10-01T00:00:00-04:00             []   \n",
              "1  2012-07-25T00:00:00-04:00             []   \n",
              "2  2011-08-03T00:00:00-04:00             []   \n",
              "3  2010-01-08T00:00:00-05:00             []   \n",
              "4  2018-07-09T00:00:00-04:00  [Environment]   \n",
              "\n",
              "                                     components  \n",
              "0            [National Security Division (NSD)]  \n",
              "1  [Environment and Natural Resources Division]  \n",
              "2  [Environment and Natural Resources Division]  \n",
              "3  [Environment and Natural Resources Division]  \n",
              "4  [Environment and Natural Resources Division]  "
            ],
            "text/html": [
              "\n",
              "  <div id=\"df-60fcefee-1f65-4e6b-aa6a-556065c4d7b0\" class=\"colab-df-container\">\n",
              "    <div>\n",
              "<style scoped>\n",
              "    .dataframe tbody tr th:only-of-type {\n",
              "        vertical-align: middle;\n",
              "    }\n",
              "\n",
              "    .dataframe tbody tr th {\n",
              "        vertical-align: top;\n",
              "    }\n",
              "\n",
              "    .dataframe thead th {\n",
              "        text-align: right;\n",
              "    }\n",
              "</style>\n",
              "<table border=\"1\" class=\"dataframe\">\n",
              "  <thead>\n",
              "    <tr style=\"text-align: right;\">\n",
              "      <th></th>\n",
              "      <th>id</th>\n",
              "      <th>title</th>\n",
              "      <th>contents</th>\n",
              "      <th>date</th>\n",
              "      <th>topics</th>\n",
              "      <th>components</th>\n",
              "    </tr>\n",
              "  </thead>\n",
              "  <tbody>\n",
              "    <tr>\n",
              "      <th>0</th>\n",
              "      <td>None</td>\n",
              "      <td>Convicted Bomb Plotter Sentenced to 30 Years</td>\n",
              "      <td>PORTLAND, Oregon. – Mohamed Osman Mohamud, 23,...</td>\n",
              "      <td>2014-10-01T00:00:00-04:00</td>\n",
              "      <td>[]</td>\n",
              "      <td>[National Security Division (NSD)]</td>\n",
              "    </tr>\n",
              "    <tr>\n",
              "      <th>1</th>\n",
              "      <td>12-919</td>\n",
              "      <td>$1 Million in Restitution Payments Announced t...</td>\n",
              "      <td>WASHINGTON – North Carolina’s Waccamaw River...</td>\n",
              "      <td>2012-07-25T00:00:00-04:00</td>\n",
              "      <td>[]</td>\n",
              "      <td>[Environment and Natural Resources Division]</td>\n",
              "    </tr>\n",
              "    <tr>\n",
              "      <th>2</th>\n",
              "      <td>11-1002</td>\n",
              "      <td>$1 Million Settlement Reached for Natural Reso...</td>\n",
              "      <td>BOSTON– A $1-million settlement has been...</td>\n",
              "      <td>2011-08-03T00:00:00-04:00</td>\n",
              "      <td>[]</td>\n",
              "      <td>[Environment and Natural Resources Division]</td>\n",
              "    </tr>\n",
              "    <tr>\n",
              "      <th>3</th>\n",
              "      <td>10-015</td>\n",
              "      <td>10 Las Vegas Men Indicted \\r\\nfor Falsifying V...</td>\n",
              "      <td>WASHINGTON—A federal grand jury in Las Vegas...</td>\n",
              "      <td>2010-01-08T00:00:00-05:00</td>\n",
              "      <td>[]</td>\n",
              "      <td>[Environment and Natural Resources Division]</td>\n",
              "    </tr>\n",
              "    <tr>\n",
              "      <th>4</th>\n",
              "      <td>18-898</td>\n",
              "      <td>$100 Million Settlement Will Speed Cleanup Wor...</td>\n",
              "      <td>The U.S. Department of Justice, the U.S. Envir...</td>\n",
              "      <td>2018-07-09T00:00:00-04:00</td>\n",
              "      <td>[Environment]</td>\n",
              "      <td>[Environment and Natural Resources Division]</td>\n",
              "    </tr>\n",
              "  </tbody>\n",
              "</table>\n",
              "</div>\n",
              "    <div class=\"colab-df-buttons\">\n",
              "\n",
              "  <div class=\"colab-df-container\">\n",
              "    <button class=\"colab-df-convert\" onclick=\"convertToInteractive('df-60fcefee-1f65-4e6b-aa6a-556065c4d7b0')\"\n",
              "            title=\"Convert this dataframe to an interactive table.\"\n",
              "            style=\"display:none;\">\n",
              "\n",
              "  <svg xmlns=\"http://www.w3.org/2000/svg\" height=\"24px\" viewBox=\"0 -960 960 960\">\n",
              "    <path d=\"M120-120v-720h720v720H120Zm60-500h600v-160H180v160Zm220 220h160v-160H400v160Zm0 220h160v-160H400v160ZM180-400h160v-160H180v160Zm440 0h160v-160H620v160ZM180-180h160v-160H180v160Zm440 0h160v-160H620v160Z\"/>\n",
              "  </svg>\n",
              "    </button>\n",
              "\n",
              "  <style>\n",
              "    .colab-df-container {\n",
              "      display:flex;\n",
              "      gap: 12px;\n",
              "    }\n",
              "\n",
              "    .colab-df-convert {\n",
              "      background-color: #E8F0FE;\n",
              "      border: none;\n",
              "      border-radius: 50%;\n",
              "      cursor: pointer;\n",
              "      display: none;\n",
              "      fill: #1967D2;\n",
              "      height: 32px;\n",
              "      padding: 0 0 0 0;\n",
              "      width: 32px;\n",
              "    }\n",
              "\n",
              "    .colab-df-convert:hover {\n",
              "      background-color: #E2EBFA;\n",
              "      box-shadow: 0px 1px 2px rgba(60, 64, 67, 0.3), 0px 1px 3px 1px rgba(60, 64, 67, 0.15);\n",
              "      fill: #174EA6;\n",
              "    }\n",
              "\n",
              "    .colab-df-buttons div {\n",
              "      margin-bottom: 4px;\n",
              "    }\n",
              "\n",
              "    [theme=dark] .colab-df-convert {\n",
              "      background-color: #3B4455;\n",
              "      fill: #D2E3FC;\n",
              "    }\n",
              "\n",
              "    [theme=dark] .colab-df-convert:hover {\n",
              "      background-color: #434B5C;\n",
              "      box-shadow: 0px 1px 3px 1px rgba(0, 0, 0, 0.15);\n",
              "      filter: drop-shadow(0px 1px 2px rgba(0, 0, 0, 0.3));\n",
              "      fill: #FFFFFF;\n",
              "    }\n",
              "  </style>\n",
              "\n",
              "    <script>\n",
              "      const buttonEl =\n",
              "        document.querySelector('#df-60fcefee-1f65-4e6b-aa6a-556065c4d7b0 button.colab-df-convert');\n",
              "      buttonEl.style.display =\n",
              "        google.colab.kernel.accessAllowed ? 'block' : 'none';\n",
              "\n",
              "      async function convertToInteractive(key) {\n",
              "        const element = document.querySelector('#df-60fcefee-1f65-4e6b-aa6a-556065c4d7b0');\n",
              "        const dataTable =\n",
              "          await google.colab.kernel.invokeFunction('convertToInteractive',\n",
              "                                                    [key], {});\n",
              "        if (!dataTable) return;\n",
              "\n",
              "        const docLinkHtml = 'Like what you see? Visit the ' +\n",
              "          '<a target=\"_blank\" href=https://colab.research.google.com/notebooks/data_table.ipynb>data table notebook</a>'\n",
              "          + ' to learn more about interactive tables.';\n",
              "        element.innerHTML = '';\n",
              "        dataTable['output_type'] = 'display_data';\n",
              "        await google.colab.output.renderOutput(dataTable, element);\n",
              "        const docLink = document.createElement('div');\n",
              "        docLink.innerHTML = docLinkHtml;\n",
              "        element.appendChild(docLink);\n",
              "      }\n",
              "    </script>\n",
              "  </div>\n",
              "\n",
              "\n",
              "<div id=\"df-873546a2-b576-4a42-8b9a-fb5f997dc4bc\">\n",
              "  <button class=\"colab-df-quickchart\" onclick=\"quickchart('df-873546a2-b576-4a42-8b9a-fb5f997dc4bc')\"\n",
              "            title=\"Suggest charts\"\n",
              "            style=\"display:none;\">\n",
              "\n",
              "<svg xmlns=\"http://www.w3.org/2000/svg\" height=\"24px\"viewBox=\"0 0 24 24\"\n",
              "     width=\"24px\">\n",
              "    <g>\n",
              "        <path d=\"M19 3H5c-1.1 0-2 .9-2 2v14c0 1.1.9 2 2 2h14c1.1 0 2-.9 2-2V5c0-1.1-.9-2-2-2zM9 17H7v-7h2v7zm4 0h-2V7h2v10zm4 0h-2v-4h2v4z\"/>\n",
              "    </g>\n",
              "</svg>\n",
              "  </button>\n",
              "\n",
              "<style>\n",
              "  .colab-df-quickchart {\n",
              "      --bg-color: #E8F0FE;\n",
              "      --fill-color: #1967D2;\n",
              "      --hover-bg-color: #E2EBFA;\n",
              "      --hover-fill-color: #174EA6;\n",
              "      --disabled-fill-color: #AAA;\n",
              "      --disabled-bg-color: #DDD;\n",
              "  }\n",
              "\n",
              "  [theme=dark] .colab-df-quickchart {\n",
              "      --bg-color: #3B4455;\n",
              "      --fill-color: #D2E3FC;\n",
              "      --hover-bg-color: #434B5C;\n",
              "      --hover-fill-color: #FFFFFF;\n",
              "      --disabled-bg-color: #3B4455;\n",
              "      --disabled-fill-color: #666;\n",
              "  }\n",
              "\n",
              "  .colab-df-quickchart {\n",
              "    background-color: var(--bg-color);\n",
              "    border: none;\n",
              "    border-radius: 50%;\n",
              "    cursor: pointer;\n",
              "    display: none;\n",
              "    fill: var(--fill-color);\n",
              "    height: 32px;\n",
              "    padding: 0;\n",
              "    width: 32px;\n",
              "  }\n",
              "\n",
              "  .colab-df-quickchart:hover {\n",
              "    background-color: var(--hover-bg-color);\n",
              "    box-shadow: 0 1px 2px rgba(60, 64, 67, 0.3), 0 1px 3px 1px rgba(60, 64, 67, 0.15);\n",
              "    fill: var(--button-hover-fill-color);\n",
              "  }\n",
              "\n",
              "  .colab-df-quickchart-complete:disabled,\n",
              "  .colab-df-quickchart-complete:disabled:hover {\n",
              "    background-color: var(--disabled-bg-color);\n",
              "    fill: var(--disabled-fill-color);\n",
              "    box-shadow: none;\n",
              "  }\n",
              "\n",
              "  .colab-df-spinner {\n",
              "    border: 2px solid var(--fill-color);\n",
              "    border-color: transparent;\n",
              "    border-bottom-color: var(--fill-color);\n",
              "    animation:\n",
              "      spin 1s steps(1) infinite;\n",
              "  }\n",
              "\n",
              "  @keyframes spin {\n",
              "    0% {\n",
              "      border-color: transparent;\n",
              "      border-bottom-color: var(--fill-color);\n",
              "      border-left-color: var(--fill-color);\n",
              "    }\n",
              "    20% {\n",
              "      border-color: transparent;\n",
              "      border-left-color: var(--fill-color);\n",
              "      border-top-color: var(--fill-color);\n",
              "    }\n",
              "    30% {\n",
              "      border-color: transparent;\n",
              "      border-left-color: var(--fill-color);\n",
              "      border-top-color: var(--fill-color);\n",
              "      border-right-color: var(--fill-color);\n",
              "    }\n",
              "    40% {\n",
              "      border-color: transparent;\n",
              "      border-right-color: var(--fill-color);\n",
              "      border-top-color: var(--fill-color);\n",
              "    }\n",
              "    60% {\n",
              "      border-color: transparent;\n",
              "      border-right-color: var(--fill-color);\n",
              "    }\n",
              "    80% {\n",
              "      border-color: transparent;\n",
              "      border-right-color: var(--fill-color);\n",
              "      border-bottom-color: var(--fill-color);\n",
              "    }\n",
              "    90% {\n",
              "      border-color: transparent;\n",
              "      border-bottom-color: var(--fill-color);\n",
              "    }\n",
              "  }\n",
              "</style>\n",
              "\n",
              "  <script>\n",
              "    async function quickchart(key) {\n",
              "      const quickchartButtonEl =\n",
              "        document.querySelector('#' + key + ' button');\n",
              "      quickchartButtonEl.disabled = true;  // To prevent multiple clicks.\n",
              "      quickchartButtonEl.classList.add('colab-df-spinner');\n",
              "      try {\n",
              "        const charts = await google.colab.kernel.invokeFunction(\n",
              "            'suggestCharts', [key], {});\n",
              "      } catch (error) {\n",
              "        console.error('Error during call to suggestCharts:', error);\n",
              "      }\n",
              "      quickchartButtonEl.classList.remove('colab-df-spinner');\n",
              "      quickchartButtonEl.classList.add('colab-df-quickchart-complete');\n",
              "    }\n",
              "    (() => {\n",
              "      let quickchartButtonEl =\n",
              "        document.querySelector('#df-873546a2-b576-4a42-8b9a-fb5f997dc4bc button');\n",
              "      quickchartButtonEl.style.display =\n",
              "        google.colab.kernel.accessAllowed ? 'block' : 'none';\n",
              "    })();\n",
              "  </script>\n",
              "</div>\n",
              "\n",
              "    </div>\n",
              "  </div>\n"
            ],
            "application/vnd.google.colaboratory.intrinsic+json": {
              "type": "dataframe",
              "variable_name": "df",
              "summary": "{\n  \"name\": \"df\",\n  \"rows\": 13087,\n  \"fields\": [\n    {\n      \"column\": \"id\",\n      \"properties\": {\n        \"dtype\": \"string\",\n        \"num_unique_values\": 12672,\n        \"samples\": [\n          \"18 - 320\",\n          \"16-769\",\n          \"17-401\"\n        ],\n        \"semantic_type\": \"\",\n        \"description\": \"\"\n      }\n    },\n    {\n      \"column\": \"title\",\n      \"properties\": {\n        \"dtype\": \"string\",\n        \"num_unique_values\": 12887,\n        \"samples\": [\n          \"14 Individuals Charged with Trafficking Identities of Puerto Rican U.S. Citizens\",\n          \"Former Puerto Rico Senator and Businessman Found Guilty of Bribery\",\n          \"Honduran Man Pleads Guilty to Conspiring to Launder Over $1 Million in Bribes and Funds Misappropriated From the Honduran Social Security Agency \"\n        ],\n        \"semantic_type\": \"\",\n        \"description\": \"\"\n      }\n    },\n    {\n      \"column\": \"contents\",\n      \"properties\": {\n        \"dtype\": \"string\",\n        \"num_unique_values\": 13080,\n        \"samples\": [\n          \" Habtom Merhay, a national of Eritrea and a citizen of the United Kingdom, made his initial appearance today in Washington, D.C., federal court to face human smuggling charges for his role in smuggling primarily Eritrean and Ethiopian undocumented migrants from Dubai, United Arab Emirates, through South and Central America and Mexico into the United States.Acting Assistant Attorney General David A. O\\u2019Neil of the Justice Department\\u2019s Criminal Division, U.S. Attorney Ronald C. Machen Jr.\\u00a0of the District of Columbia and Acting Special Agent in Charge Katrina W. Berger of U.S. Immigration and Customs Enforcement\\u2019s (ICE) Homeland Security Investigations (HSI) made the announcement.Merhay, 47, arrived in the United States on April 25, 2014, and made his initial appearance today before U.S. Magistrate Judge Deborah A. Robinson in the District of Columbia.   He was indicted under seal in the District of Columbia in 2012, and the charges were unsealed today.   Merhay has been in the custody of Moroccan authorities pending extradition since his arrest in Marrakech, Morocco, in August 2013.The indictment charges Merhay with one count of conspiracy to bring undocumented migrants to the United States for profit and 15 counts of unlawfully bringing an undocumented migrant to the United States for profit.   Court documents allege that Merhay operated with a network of smugglers in Africa, the United Arab Emirates, South and Central America, Mexico and elsewhere to coordinate and implement arrangements, including providing fraudulent identity and travel documents, for undocumented migrants to travel through Latin America and ultimately into the United States without authorization.   For up to $15,000, Merhay arranged for individual undocumented migrants to travel from points in Africa to a house or apartment in Dubai, where he provided travel documents, tickets and instructions for meeting other smugglers while on the way to the United States.   Merhay coordinated the migrants\\u2019 air travel to South America, where they would meet with Merhay\\u2019s associates, who would direct or guide them across the various country borders.   The undocumented migrants then met with other smugglers associated with Merhay and were further guided north to Mexico and then into the United States, sometimes by crossing the Rio Grande River by raft.The investigation was conducted under the Extraterritorial Criminal Travel Strike Force (ECT) program, a joint partnership between the Justice Department\\u2019s Criminal Division and ICE-HSI.   The ECT program focuses on human smuggling networks that may present particular national security or public safety risks or present grave humanitarian concerns.   ECT has dedicated investigative, intelligence and prosecutorial resources.   ECT coordinates and receives assistance from other U.S. government agencies and foreign law enforcement authorities.The investigation was conducted by HSI Washington.\\u00a0 This case is being prosecuted by Trial Attorney Jay Bauer of the Criminal Division\\u2019s Human Rights and Special Prosecutions Section and Assistant U.S. Attorney Frederick Yette of the District of Columbia.\\u00a0 The extradition was handled by Dan E. Stigall of the Criminal Division\\u2019s Office of International Affairs.The Department of Justice and HSI expressed their appreciation for the significant assistance provided by the Moroccan Ministry of Justice.The charges contained in the indictment are merely accusations, and the defendant is presumed innocent unless and until proven guilty.      \\u00a0\",\n          \"  Metropolitan Ambulance & First Aid Corp. (now known as SEZ Metro Corp.), Metro North Ambulance Corp. (now known as SEZ North Corp.) and Big Apple Ambulance Service Inc. (formerly known as United Ambulance) have paid the United States $2.85 million to resolve false claims made to Medicare, the Justice Department announced today. The United States stipulated to the dismissal of the False Claims Act qui tam suit against the companies, including their president, Steve Zakheim.   The United States alleged that the companies and Zakheim used, or caused the use of, falsified records to appeal a Medicare program refund demand. Medicare had demanded the companies return millions of dollars they had been paid for medically unnecessary ambulance trips. Under Medicare rules, the companies could bill for these expensive non-emergency transports only if the patient could not be transported by any other means, such as by car or by wheelchair van. Medicare audited the companies\\u2019 past billings and concluded that the companies had charged Medicare tens of millions of dollars for ambulance trips that did not meet this standard. Medicare demanded a refund and afforded the companies an extensive informal and formal appeals process to prove that their billings were proper.   The government contended that, rather than contesting the refund demand fairly, the companies resorted to fraud when they could not otherwise prove an ambulance was medically needed. According to the suit, in their ensuing appeals, the companies used, and Zakheim caused the use of, hundreds of letters attesting to the need for an ambulance that were forged or otherwise purported to come from some neutral, disinterested health care provider when they in fact did not.   \\\"Those who benefit from Medicare must play by the rules,\\\" said Tony West, Assistant Attorney General for the Civil Division of the Department of Justice. \\\"We will diligently protect taxpayer dollars from those who use fraud and deceit to take advantage of federal health care programs.\\\"   \\\"Healthcare providers who seek to defraud the Medicare program by submitting false documents will be vigorously pursued and held accountable for their fraud,\\\" said U.S. Attorney Loretta E. Lynch.   This action was originally filed by Larry Kaplan, a former Chief Financial Officer for one of the companies, under the False Claims Act. The qui tam, or whistleblower, provisions of the Act permit private citizens to file suit on behalf of the United States and share in any recovery. Mr. Kaplan\\u2019s share of the settlement announced today will be $618,450.   The investigation, litigation, and resolution of these allegations resulted from a coordinated effort by the Justice Department\\u2019s Civil Division, the U.S. Attorney\\u2019s Office for the Eastern District of New York, the Department of Health and Human Services\\u2019 Office of Inspector General, and the Federal Bureau of Investigation.   The suit is United States ex rel. Kaplan v. Metropolitan Ambulance & First-Aid Corp. et al., Civil Action No. 00-3010 (E.D.N.Y.).   This settlement is part of the government\\u2019s emphasis on combating health care fraud. One of the most powerful tools in that effort is the False Claims Act, which the Justice Department has used to recover approximately $3 billion since January 2009 in cases involving fraud against federal health care programs.\",\n          \"  WASHINGTON \\u2014 The United States has filed a complaint against Louisiana Generating alleging that the company violated the Clean Air Act by operating the Big Cajun 2 Power Plant, a coal-fired power plant in New Roads, La., without also installing and operating modern pollution control equipment after the generating units had undergone major modifications, the Justice Department and U.S. Environmental Protection Agency (EPA) announced today.\\u00a0   The complaint alleges that for more than a decade, the Big Cajun 2 Power Plant has operated without the best available emissions-control technology required by the New Source Review provisions of the Clean Air Act to control emissions of sulfur dioxide and nitrogen oxide, contributing to formation of fine particulate matter, smog and acid rain.   The lawsuit, filed by the Justice Department on behalf of the EPA, asks the court to order Louisiana Generating to install and operate appropriate air pollution control technology in order to substantially reduce sulfur dioxide and nitrogen oxide emissions from the Big Cajun 2 Power Plant.\\u00a0 The United States also seeks civil penalties up to the maximum amount authorized by law, as well as actions by the energy provider to mitigate the adverse effects alleged to have been caused by the violations.\\u00a0   Coal-fired power plants collectively produce more pollution than any other industry in the United States.\\u00a0 They account for nearly 70 percent of sulfur dioxide emissions each year and 20 percent of nitrogen oxides emissions.\\u00a0 Emissions from coal-fired power plants have detrimental health effects on asthma sufferers, the elderly and children.\\u00a0 Additionally, these emissions have been linked to forest degradation, waterway damage, reservoir contamination and deterioration of stone and copper in buildings.   To combat these adverse effects, the EPA and the Justice Department are pursuing a national initiative, targeting electric utilities whose coal-fired power plants violate the law.\\u00a0 The suit was filed in the U.S. District Court in Baton Rouge, La.\"\n        ],\n        \"semantic_type\": \"\",\n        \"description\": \"\"\n      }\n    },\n    {\n      \"column\": \"date\",\n      \"properties\": {\n        \"dtype\": \"object\",\n        \"num_unique_values\": 2400,\n        \"samples\": [\n          \"2010-10-12T00:00:00-04:00\",\n          \"2013-12-23T00:00:00-05:00\",\n          \"2013-07-02T00:00:00-04:00\"\n        ],\n        \"semantic_type\": \"\",\n        \"description\": \"\"\n      }\n    },\n    {\n      \"column\": \"topics\",\n      \"properties\": {\n        \"dtype\": \"object\",\n        \"semantic_type\": \"\",\n        \"description\": \"\"\n      }\n    },\n    {\n      \"column\": \"components\",\n      \"properties\": {\n        \"dtype\": \"object\",\n        \"semantic_type\": \"\",\n        \"description\": \"\"\n      }\n    }\n  ]\n}"
            }
          },
          "metadata": {},
          "execution_count": 8
        }
      ]
    },
    {
      "cell_type": "code",
      "source": [
        "df = df[df['topics'].str.len() != 0]"
      ],
      "metadata": {
        "id": "t_A7kglOBdIZ"
      },
      "execution_count": 14,
      "outputs": []
    },
    {
      "cell_type": "code",
      "source": [
        "df.head"
      ],
      "metadata": {
        "colab": {
          "base_uri": "https://localhost:8080/",
          "height": 186
        },
        "id": "EonrP7NaCkw7",
        "outputId": "b9ae646e-9137-431c-eed4-41cad3153d78"
      },
      "execution_count": 15,
      "outputs": [
        {
          "output_type": "execute_result",
          "data": {
            "text/plain": [
              "<bound method NDFrame.head of             id                                              title  \\\n",
              "4       18-898  $100 Million Settlement Will Speed Cleanup Wor...   \n",
              "7      14-1412  14 Indicted in Connection with New England Com...   \n",
              "19     17-1419  2017 Southeast Regional Animal Cruelty Prosecu...   \n",
              "22     15-1562  21st Century Oncology to Pay $19.75 Million to...   \n",
              "23     17-1404  21st Century Oncology to Pay $26 Million to Se...   \n",
              "...        ...                                                ...   \n",
              "13081  14-1377  Yuba City, California, Man Sentenced to 46 Mon...   \n",
              "13082   16-735  Yuengling to Upgrade Environmental Measures to...   \n",
              "13084   17-045  Zimmer Biomet Holdings Inc. Agrees to Pay $17....   \n",
              "13085   17-252  ZTE Corporation Agrees to Plead Guilty and Pay...   \n",
              "13086   17-304  ZTE Corporation Pleads Guilty for  Violating U...   \n",
              "\n",
              "                                                contents  \\\n",
              "4      The U.S. Department of Justice, the U.S. Envir...   \n",
              "7      A 131-count criminal indictment was unsealed t...   \n",
              "19     The United States Attorney’s Office for the Mi...   \n",
              "22     21st Century Oncology LLC, has agreed to pay $...   \n",
              "23     21st Century Oncology Inc. and certain of its ...   \n",
              "...                                                  ...   \n",
              "13081  Anthony Merrell Tyler, 34, of Yuba City, Calif...   \n",
              "13082  The Department of Justice and the U.S. Environ...   \n",
              "13084  Subsidiary Agrees to Plead Guilty to Violating...   \n",
              "13085  ZTE Corporation has agreed to enter a guilty p...   \n",
              "13086  ZTE Corporation pleaded guilty today to conspi...   \n",
              "\n",
              "                            date  \\\n",
              "4      2018-07-09T00:00:00-04:00   \n",
              "7      2014-12-17T00:00:00-05:00   \n",
              "19     2017-12-14T00:00:00-05:00   \n",
              "22     2015-12-18T00:00:00-05:00   \n",
              "23     2017-12-12T00:00:00-05:00   \n",
              "...                          ...   \n",
              "13081  2014-12-09T00:00:00-05:00   \n",
              "13082  2016-06-23T00:00:00-04:00   \n",
              "13084  2017-01-12T00:00:00-05:00   \n",
              "13085  2017-03-07T00:00:00-05:00   \n",
              "13086  2017-03-22T00:00:00-04:00   \n",
              "\n",
              "                                                  topics  \\\n",
              "4                                          [Environment]   \n",
              "7                                  [Consumer Protection]   \n",
              "19                                         [Environment]   \n",
              "22                 [False Claims Act, Health Care Fraud]   \n",
              "23                 [Health Care Fraud, False Claims Act]   \n",
              "...                                                  ...   \n",
              "13081                                      [Hate Crimes]   \n",
              "13082                                      [Environment]   \n",
              "13084                               [Foreign Corruption]   \n",
              "13085  [Asset Forfeiture, Counterintelligence and Exp...   \n",
              "13086           [Counterintelligence and Export Control]   \n",
              "\n",
              "                                              components  \n",
              "4           [Environment and Natural Resources Division]  \n",
              "7                                       [Civil Division]  \n",
              "19     [Environment and Natural Resources Division, U...  \n",
              "22                                      [Civil Division]  \n",
              "23              [Civil Division, USAO - Florida, Middle]  \n",
              "...                                                  ...  \n",
              "13081  [Civil Rights Division, Civil Rights - Crimina...  \n",
              "13082       [Environment and Natural Resources Division]  \n",
              "13084  [Criminal Division, Criminal - Criminal Fraud ...  \n",
              "13085  [National Security Division (NSD), USAO - Texa...  \n",
              "13086  [National Security Division (NSD), USAO - Texa...  \n",
              "\n",
              "[4688 rows x 6 columns]>"
            ],
            "text/html": [
              "<div style=\"max-width:800px; border: 1px solid var(--colab-border-color);\"><style>\n",
              "      pre.function-repr-contents {\n",
              "        overflow-x: auto;\n",
              "        padding: 8px 12px;\n",
              "        max-height: 500px;\n",
              "      }\n",
              "\n",
              "      pre.function-repr-contents.function-repr-contents-collapsed {\n",
              "        cursor: pointer;\n",
              "        max-height: 100px;\n",
              "      }\n",
              "    </style>\n",
              "    <pre style=\"white-space: initial; background:\n",
              "         var(--colab-secondary-surface-color); padding: 8px 12px;\n",
              "         border-bottom: 1px solid var(--colab-border-color);\"><b>pandas.core.generic.NDFrame.head</b><br/>def head(n: int=5) -&gt; NDFrameT</pre><pre class=\"function-repr-contents function-repr-contents-collapsed\" style=\"\"><a class=\"filepath\" style=\"display:none\" href=\"#\">/usr/local/lib/python3.10/dist-packages/pandas/core/generic.py</a>Return the first `n` rows.\n",
              "\n",
              "This function returns the first `n` rows for the object based\n",
              "on position. It is useful for quickly testing if your object\n",
              "has the right type of data in it.\n",
              "\n",
              "For negative values of `n`, this function returns all rows except\n",
              "the last `|n|` rows, equivalent to ``df[:n]``.\n",
              "\n",
              "If n is larger than the number of rows, this function returns all rows.\n",
              "\n",
              "Parameters\n",
              "----------\n",
              "n : int, default 5\n",
              "    Number of rows to select.\n",
              "\n",
              "Returns\n",
              "-------\n",
              "same type as caller\n",
              "    The first `n` rows of the caller object.\n",
              "\n",
              "See Also\n",
              "--------\n",
              "DataFrame.tail: Returns the last `n` rows.\n",
              "\n",
              "Examples\n",
              "--------\n",
              "&gt;&gt;&gt; df = pd.DataFrame({&#x27;animal&#x27;: [&#x27;alligator&#x27;, &#x27;bee&#x27;, &#x27;falcon&#x27;, &#x27;lion&#x27;,\n",
              "...                    &#x27;monkey&#x27;, &#x27;parrot&#x27;, &#x27;shark&#x27;, &#x27;whale&#x27;, &#x27;zebra&#x27;]})\n",
              "&gt;&gt;&gt; df\n",
              "      animal\n",
              "0  alligator\n",
              "1        bee\n",
              "2     falcon\n",
              "3       lion\n",
              "4     monkey\n",
              "5     parrot\n",
              "6      shark\n",
              "7      whale\n",
              "8      zebra\n",
              "\n",
              "Viewing the first 5 lines\n",
              "\n",
              "&gt;&gt;&gt; df.head()\n",
              "      animal\n",
              "0  alligator\n",
              "1        bee\n",
              "2     falcon\n",
              "3       lion\n",
              "4     monkey\n",
              "\n",
              "Viewing the first `n` lines (three in this case)\n",
              "\n",
              "&gt;&gt;&gt; df.head(3)\n",
              "      animal\n",
              "0  alligator\n",
              "1        bee\n",
              "2     falcon\n",
              "\n",
              "For negative values of `n`\n",
              "\n",
              "&gt;&gt;&gt; df.head(-3)\n",
              "      animal\n",
              "0  alligator\n",
              "1        bee\n",
              "2     falcon\n",
              "3       lion\n",
              "4     monkey\n",
              "5     parrot</pre>\n",
              "      <script>\n",
              "      if (google.colab.kernel.accessAllowed && google.colab.files && google.colab.files.view) {\n",
              "        for (const element of document.querySelectorAll('.filepath')) {\n",
              "          element.style.display = 'block'\n",
              "          element.onclick = (event) => {\n",
              "            event.preventDefault();\n",
              "            event.stopPropagation();\n",
              "            google.colab.files.view(element.textContent, 5559);\n",
              "          };\n",
              "        }\n",
              "      }\n",
              "      for (const element of document.querySelectorAll('.function-repr-contents')) {\n",
              "        element.onclick = (event) => {\n",
              "          event.preventDefault();\n",
              "          event.stopPropagation();\n",
              "          element.classList.toggle('function-repr-contents-collapsed');\n",
              "        };\n",
              "      }\n",
              "      </script>\n",
              "      </div>"
            ]
          },
          "metadata": {},
          "execution_count": 15
        }
      ]
    },
    {
      "cell_type": "code",
      "source": [
        "df.shape"
      ],
      "metadata": {
        "colab": {
          "base_uri": "https://localhost:8080/"
        },
        "id": "8iPtubYmBdF3",
        "outputId": "085ff87a-0376-407c-a308-f834d092e706"
      },
      "execution_count": 16,
      "outputs": [
        {
          "output_type": "execute_result",
          "data": {
            "text/plain": [
              "(4688, 6)"
            ]
          },
          "metadata": {},
          "execution_count": 16
        }
      ]
    },
    {
      "cell_type": "code",
      "source": [
        "df = df.head(100)\n",
        "df.shape"
      ],
      "metadata": {
        "colab": {
          "base_uri": "https://localhost:8080/"
        },
        "id": "v5fqkzP6BdDX",
        "outputId": "7a3f6a2a-d73c-4d1e-dc19-c1319be0b854"
      },
      "execution_count": 17,
      "outputs": [
        {
          "output_type": "execute_result",
          "data": {
            "text/plain": [
              "(100, 6)"
            ]
          },
          "metadata": {},
          "execution_count": 17
        }
      ]
    },
    {
      "cell_type": "code",
      "source": [
        "df[\"contents_new\"] = df.contents.apply(preprocess)"
      ],
      "metadata": {
        "colab": {
          "base_uri": "https://localhost:8080/"
        },
        "id": "sQ183OVvBc-I",
        "outputId": "46ab44dc-2dfb-4840-e71b-4b7cd8626468"
      },
      "execution_count": 18,
      "outputs": [
        {
          "output_type": "stream",
          "name": "stderr",
          "text": [
            "<ipython-input-18-61fdbb4d541b>:1: SettingWithCopyWarning: \n",
            "A value is trying to be set on a copy of a slice from a DataFrame.\n",
            "Try using .loc[row_indexer,col_indexer] = value instead\n",
            "\n",
            "See the caveats in the documentation: https://pandas.pydata.org/pandas-docs/stable/user_guide/indexing.html#returning-a-view-versus-a-copy\n",
            "  df[\"contents_new\"] = df.contents.apply(preprocess)\n"
          ]
        }
      ]
    },
    {
      "cell_type": "code",
      "source": [
        "len(df.contents[4])"
      ],
      "metadata": {
        "colab": {
          "base_uri": "https://localhost:8080/"
        },
        "id": "d11MU5neCLSr",
        "outputId": "04a6bdd6-de74-46eb-c6e5-2aa097beaa47"
      },
      "execution_count": 19,
      "outputs": [
        {
          "output_type": "execute_result",
          "data": {
            "text/plain": [
              "6286"
            ]
          },
          "metadata": {},
          "execution_count": 19
        }
      ]
    },
    {
      "cell_type": "code",
      "source": [
        "len(df.contents_new[4])"
      ],
      "metadata": {
        "colab": {
          "base_uri": "https://localhost:8080/"
        },
        "id": "NyijtkeHCLQI",
        "outputId": "12305c29-d450-46fe-c017-c9f03e7b846a"
      },
      "execution_count": 20,
      "outputs": [
        {
          "output_type": "execute_result",
          "data": {
            "text/plain": [
              "4574"
            ]
          },
          "metadata": {},
          "execution_count": 20
        }
      ]
    },
    {
      "cell_type": "code",
      "source": [
        "df.contents[4][:300]"
      ],
      "metadata": {
        "colab": {
          "base_uri": "https://localhost:8080/",
          "height": 69
        },
        "id": "6Ghea__sCLNX",
        "outputId": "616941c9-8553-4770-af71-137c0381fa6c"
      },
      "execution_count": 21,
      "outputs": [
        {
          "output_type": "execute_result",
          "data": {
            "text/plain": [
              "'The U.S. Department of Justice, the U.S. Environmental Protection Agency (EPA), and the Rhode Island Department of Environmental Management (RIDEM) announced today that two subsidiaries of Stanley Black & Decker Inc.—Emhart Industries Inc. and Black & Decker Inc.—have agreed to clean up dioxin conta'"
            ],
            "application/vnd.google.colaboratory.intrinsic+json": {
              "type": "string"
            }
          },
          "metadata": {},
          "execution_count": 21
        }
      ]
    },
    {
      "cell_type": "code",
      "source": [
        "df.contents_new[4][:300]"
      ],
      "metadata": {
        "colab": {
          "base_uri": "https://localhost:8080/",
          "height": 69
        },
        "id": "fb-kmmXaCLKp",
        "outputId": "1420d1aa-111b-4271-e769-a6ee6ef6a1de"
      },
      "execution_count": 22,
      "outputs": [
        {
          "output_type": "execute_result",
          "data": {
            "text/plain": [
              "'U.S. Department Justice U.S. Environmental Protection Agency EPA Rhode Island Department Environmental Management RIDEM announced today subsidiaries Stanley Black Decker Inc.—Emhart Industries Inc. Black Decker Inc.—have agreed clean dioxin contaminated sediment soil Centredale Manor Restoration Pro'"
            ],
            "application/vnd.google.colaboratory.intrinsic+json": {
              "type": "string"
            }
          },
          "metadata": {},
          "execution_count": 22
        }
      ]
    },
    {
      "cell_type": "code",
      "source": [
        "preprocess(\"this is a good movie\")"
      ],
      "metadata": {
        "colab": {
          "base_uri": "https://localhost:8080/",
          "height": 35
        },
        "id": "Q91hANJuCqXQ",
        "outputId": "45b8dc90-1307-4123-c719-96db788d33b8"
      },
      "execution_count": 23,
      "outputs": [
        {
          "output_type": "execute_result",
          "data": {
            "text/plain": [
              "'good movie'"
            ],
            "application/vnd.google.colaboratory.intrinsic+json": {
              "type": "string"
            }
          },
          "metadata": {},
          "execution_count": 23
        }
      ]
    },
    {
      "cell_type": "code",
      "source": [
        "preprocess(\"this is not a good movie\")"
      ],
      "metadata": {
        "colab": {
          "base_uri": "https://localhost:8080/",
          "height": 35
        },
        "id": "JLOuuM4ACqUg",
        "outputId": "bbabcbbf-1b93-455c-b037-9c062c7be766"
      },
      "execution_count": 24,
      "outputs": [
        {
          "output_type": "execute_result",
          "data": {
            "text/plain": [
              "'good movie'"
            ],
            "application/vnd.google.colaboratory.intrinsic+json": {
              "type": "string"
            }
          },
          "metadata": {},
          "execution_count": 24
        }
      ]
    }
  ]
}