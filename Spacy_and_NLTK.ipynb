{
  "nbformat": 4,
  "nbformat_minor": 0,
  "metadata": {
    "colab": {
      "provenance": [],
      "authorship_tag": "ABX9TyO5RDZ8gfHkVLz9tS6kP9sS",
      "include_colab_link": true
    },
    "kernelspec": {
      "name": "python3",
      "display_name": "Python 3"
    },
    "language_info": {
      "name": "python"
    }
  },
  "cells": [
    {
      "cell_type": "markdown",
      "metadata": {
        "id": "view-in-github",
        "colab_type": "text"
      },
      "source": [
        "<a href=\"https://colab.research.google.com/github/Ved0715/Natural-Language-Processing/blob/main/Spacy_and_NLTK.ipynb\" target=\"_parent\"><img src=\"https://colab.research.google.com/assets/colab-badge.svg\" alt=\"Open In Colab\"/></a>"
      ]
    },
    {
      "cell_type": "code",
      "execution_count": 1,
      "metadata": {
        "id": "QyHtEzyQr3Y5"
      },
      "outputs": [],
      "source": [
        "import spacy"
      ]
    },
    {
      "cell_type": "code",
      "source": [
        "s_nlp = spacy.load('en_core_web_sm')"
      ],
      "metadata": {
        "id": "hPY-FyEesAzt"
      },
      "execution_count": 2,
      "outputs": []
    },
    {
      "cell_type": "code",
      "source": [
        "doc = s_nlp('Mr.Vedant, living in Maharastra, loves Deep. learning Mr.Abhishek, living in Rajasthan, loves CLoud Computing')"
      ],
      "metadata": {
        "id": "0kpVyOvZsOyl"
      },
      "execution_count": 11,
      "outputs": []
    },
    {
      "cell_type": "code",
      "source": [
        "for sentence in doc.sents:\n",
        "    print(sentence)"
      ],
      "metadata": {
        "colab": {
          "base_uri": "https://localhost:8080/"
        },
        "id": "P0dPmhqds8PC",
        "outputId": "1a75dfa5-2153-491b-ad2e-0e33a4164e48"
      },
      "execution_count": 4,
      "outputs": [
        {
          "output_type": "stream",
          "name": "stdout",
          "text": [
            "Mr.Vedant, living in Maharastra, loves Deep.\n",
            "learning Mr.Abhishek, living in Rajasthan, loves CLoud Computing\n"
          ]
        }
      ]
    },
    {
      "cell_type": "code",
      "source": [
        "for sent in doc.sents:\n",
        "    for word in sent:\n",
        "      print(word)"
      ],
      "metadata": {
        "colab": {
          "base_uri": "https://localhost:8080/"
        },
        "id": "iOXGoPIOtEIE",
        "outputId": "d04604b3-3ed0-439d-f072-0ca5afde057a"
      },
      "execution_count": 5,
      "outputs": [
        {
          "output_type": "stream",
          "name": "stdout",
          "text": [
            "Mr.\n",
            "Vedant\n",
            ",\n",
            "living\n",
            "in\n",
            "Maharastra\n",
            ",\n",
            "loves\n",
            "Deep\n",
            ".\n",
            "learning\n",
            "Mr.\n",
            "Abhishek\n",
            ",\n",
            "living\n",
            "in\n",
            "Rajasthan\n",
            ",\n",
            "loves\n",
            "CLoud\n",
            "Computing\n"
          ]
        }
      ]
    },
    {
      "cell_type": "code",
      "source": [],
      "metadata": {
        "id": "baiL7_hUum4E"
      },
      "execution_count": 5,
      "outputs": []
    },
    {
      "cell_type": "code",
      "source": [
        "import nltk\n",
        "nltk.download('punkt')"
      ],
      "metadata": {
        "colab": {
          "base_uri": "https://localhost:8080/"
        },
        "id": "d2mJO_jQuYsQ",
        "outputId": "b7451743-90f6-4058-aa9c-addce9402ea7"
      },
      "execution_count": 6,
      "outputs": [
        {
          "output_type": "stream",
          "name": "stderr",
          "text": [
            "[nltk_data] Downloading package punkt to /root/nltk_data...\n",
            "[nltk_data]   Unzipping tokenizers/punkt.zip.\n"
          ]
        },
        {
          "output_type": "execute_result",
          "data": {
            "text/plain": [
              "True"
            ]
          },
          "metadata": {},
          "execution_count": 6
        }
      ]
    },
    {
      "cell_type": "code",
      "source": [
        "from nltk.tokenize import sent_tokenize, word_tokenize"
      ],
      "metadata": {
        "id": "-3-A559LuqoO"
      },
      "execution_count": 7,
      "outputs": []
    },
    {
      "cell_type": "code",
      "source": [
        "s = sent_tokenize('Mr.Vedant, living in Maharastra, loves Deep learning. Mr.Abhishek, living in Rajasthan, loves CLoud Computing')"
      ],
      "metadata": {
        "id": "EbS4zDw3vcOs"
      },
      "execution_count": 12,
      "outputs": []
    },
    {
      "cell_type": "code",
      "source": [
        "for sentence in s:\n",
        "  print(sentence)"
      ],
      "metadata": {
        "colab": {
          "base_uri": "https://localhost:8080/"
        },
        "id": "uxSbLuUdvoHF",
        "outputId": "36feafed-a955-4c1b-e6ed-9d4971d4c7c0"
      },
      "execution_count": 13,
      "outputs": [
        {
          "output_type": "stream",
          "name": "stdout",
          "text": [
            "Mr.Vedant, living in Maharastra, loves Deep learning.\n",
            "Mr.Abhishek, living in Rajasthan, loves CLoud Computing\n"
          ]
        }
      ]
    },
    {
      "cell_type": "code",
      "source": [
        "word_tokenize('Mr.Vedant, living in Maharastra, loves Deep learning. Mr.Abhishek, living in Rajasthan, loves CLoud Computing')"
      ],
      "metadata": {
        "colab": {
          "base_uri": "https://localhost:8080/"
        },
        "id": "zhwGS11Yv_AI",
        "outputId": "526aec68-8bf2-445c-dde8-065d6345c712"
      },
      "execution_count": 14,
      "outputs": [
        {
          "output_type": "execute_result",
          "data": {
            "text/plain": [
              "['Mr.Vedant',\n",
              " ',',\n",
              " 'living',\n",
              " 'in',\n",
              " 'Maharastra',\n",
              " ',',\n",
              " 'loves',\n",
              " 'Deep',\n",
              " 'learning',\n",
              " '.',\n",
              " 'Mr.Abhishek',\n",
              " ',',\n",
              " 'living',\n",
              " 'in',\n",
              " 'Rajasthan',\n",
              " ',',\n",
              " 'loves',\n",
              " 'CLoud',\n",
              " 'Computing']"
            ]
          },
          "metadata": {},
          "execution_count": 14
        }
      ]
    },
    {
      "cell_type": "code",
      "source": [],
      "metadata": {
        "id": "-DZ7rBqiw18z"
      },
      "execution_count": null,
      "outputs": []
    }
  ]
}